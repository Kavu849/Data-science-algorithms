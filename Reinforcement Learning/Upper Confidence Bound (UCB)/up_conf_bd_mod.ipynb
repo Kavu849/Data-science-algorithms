{
 "cells": [
  {
   "cell_type": "code",
   "execution_count": 1,
   "id": "a6b04369-5356-4cc0-bd6e-7ff786580e1f",
   "metadata": {
    "tags": []
   },
   "outputs": [],
   "source": [
    "import numpy as np\n",
    "import pandas as pd\n",
    "import matplotlib.pyplot as plt"
   ]
  },
  {
   "cell_type": "code",
   "execution_count": 2,
   "id": "f7040f20-167c-4182-afda-3b236c805b22",
   "metadata": {
    "tags": []
   },
   "outputs": [],
   "source": [
    "data = pd.read_csv('Ads_CTR_Optimisation.csv')"
   ]
  },
  {
   "cell_type": "code",
   "execution_count": 15,
   "id": "b2039b1f-11ec-4409-9631-174faba8f61b",
   "metadata": {
    "tags": []
   },
   "outputs": [],
   "source": [
    "import math\n",
    "N = data.shape[0]\n",
    "N_ads = data.shape[1]\n",
    "Ni = [0] * 10\n",
    "Ri = [0] * 10\n",
    "max_conf_int = [1e400] * 10\n",
    "conf_ints = [[]] * 10\n",
    "ads_sel = []\n",
    "\n",
    "for n in range(N):\n",
    "    ad = np.argmax(max_conf_int)\n",
    "    ads_sel.append(ad)\n",
    "    Ni[ad] = Ni[ad] + 1\n",
    "    reward = data.values[n, ad]\n",
    "    Ri[ad] = Ri[ad] + reward\n",
    "    r_i = Ri[ad]/Ni[ad]\n",
    "    delta_i = math.sqrt(3*math.log(n+1)/(2*Ni[ad]))\n",
    "    max_conf_int[ad] = r_i + delta_i\n",
    "    conf_ints[ad] = [r_i - delta_i, r_i + delta_i]"
   ]
  },
  {
   "cell_type": "code",
   "execution_count": 16,
   "id": "09cf8059-8fd9-4612-b332-c31ca71e6dfe",
   "metadata": {
    "tags": []
   },
   "outputs": [
    {
     "data": {
      "text/plain": [
       "[[0.08097350282687285, 0.3146743705658077],\n",
       " [-0.07164139949953999, 0.3142290005777071],\n",
       " [-0.18691623776823033, 0.3141889650409576],\n",
       " [-0.027063705804419053, 0.3145901328657298],\n",
       " [0.21904505034037594, 0.3153855845269402],\n",
       " [-0.30062445416278927, 0.3143230842997756],\n",
       " [-0.08965970337840327, 0.31451177438432043],\n",
       " [0.0853389242992965, 0.3146610757007035],\n",
       " [-0.14572418176822893, 0.3143065572471561],\n",
       " [-0.24598497050428583, 0.31416678868610404]]"
      ]
     },
     "execution_count": 16,
     "metadata": {},
     "output_type": "execute_result"
    }
   ],
   "source": [
    "conf_ints"
   ]
  },
  {
   "cell_type": "code",
   "execution_count": 17,
   "id": "d12c032c-0f57-4587-92de-c8b017ed0fa7",
   "metadata": {
    "tags": []
   },
   "outputs": [
    {
     "data": {
      "text/plain": [
       "(array([1011.,  371.,  220.,  473., 5954.,  146.,  338., 1050.,  261.,\n",
       "         176.]),\n",
       " array([0. , 0.9, 1.8, 2.7, 3.6, 4.5, 5.4, 6.3, 7.2, 8.1, 9. ]),\n",
       " <BarContainer object of 10 artists>)"
      ]
     },
     "execution_count": 17,
     "metadata": {},
     "output_type": "execute_result"
    },
    {
     "data": {
      "image/png": "[encoded data removed]",
      "text/plain": [
       "<Figure size 640x480 with 1 Axes>"
      ]
     },
     "metadata": {},
     "output_type": "display_data"
    }
   ],
   "source": [
    "plt.hist(ads_sel)"
   ]
  },
  {
   "cell_type": "code",
   "execution_count": 142,
   "id": "632972bb-e56c-4d0b-b646-c59974ec4ae6",
   "metadata": {
    "tags": []
   },
   "outputs": [
    {
     "data": {
      "text/plain": [
       "[1011, 371, 220, 473, 5954, 146, 338, 1050, 261, 176]"
      ]
     },
     "execution_count": 142,
     "metadata": {},
     "output_type": "execute_result"
    }
   ],
   "source": [
    "frequencies_my = [sum([ads_sel[i] == j for i in ads_sel]) for j in range(10)]"
   ]
  },
  {
   "cell_type": "code",
   "execution_count": null,
   "id": "f3c0b956-a19c-407a-995e-eaeb8e09c6db",
   "metadata": {},
   "outputs": [],
   "source": [
    "frequencies_them[705, 387, 186, 345, 6323, 150, 292, 1170, 256, 186]"
   ]
  }
 ],
 "metadata": {
  "kernelspec": {
   "display_name": "Python 3 (ipykernel)",
   "language": "python",
   "name": "python3"
  },
  "language_info": {
   "codemirror_mode": {
    "name": "ipython",
    "version": 3
   },
   "file_extension": ".py",
   "mimetype": "text/x-python",
   "name": "python",
   "nbconvert_exporter": "python",
   "pygments_lexer": "ipython3",
   "version": "3.11.2"
  }
 },
 "nbformat": 4,
 "nbformat_minor": 5
}
