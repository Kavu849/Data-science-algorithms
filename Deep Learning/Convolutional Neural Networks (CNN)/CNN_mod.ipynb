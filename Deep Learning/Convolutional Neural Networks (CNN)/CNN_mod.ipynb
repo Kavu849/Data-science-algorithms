{
 "cells": [
  {
   "cell_type": "code",
   "execution_count": 1,
   "id": "e0bbcc1e-2789-435e-b979-0254a74b96df",
   "metadata": {
    "tags": []
   },
   "outputs": [],
   "source": [
    "import tensorflow as tf\n",
    "from keras.preprocessing.image import ImageDataGenerator"
   ]
  },
  {
   "cell_type": "code",
   "execution_count": 2,
   "id": "06e4fbce-276d-4d5b-a0fc-661978c413d1",
   "metadata": {
    "tags": []
   },
   "outputs": [
    {
     "data": {
      "text/plain": [
       "'2.12.0'"
      ]
     },
     "execution_count": 2,
     "metadata": {},
     "output_type": "execute_result"
    }
   ],
   "source": [
    "tf.__version__"
   ]
  },
  {
   "cell_type": "code",
   "execution_count": 3,
   "id": "cd6f9683-ab87-4aa1-9b63-b50f4af0f11d",
   "metadata": {
    "tags": []
   },
   "outputs": [
    {
     "name": "stdout",
     "output_type": "stream",
     "text": [
      "Found 8000 images belonging to 2 classes.\n"
     ]
    }
   ],
   "source": [
    "train_datagen = ImageDataGenerator(\n",
    "    rescale = 1./255,\n",
    "    shear_range = 0.2,\n",
    "    zoom_range = 0.2,\n",
    "    horizontal_flip = True)\n",
    "training_set = train_datagen.flow_from_directory(\n",
    "    'dataset/training_set',\n",
    "    target_size = (64, 64),\n",
    "    batch_size = 32,\n",
    "    class_mode = 'binary')"
   ]
  },
  {
   "cell_type": "code",
   "execution_count": 4,
   "id": "24ec3363-d86e-4b6f-8659-25ab894aff90",
   "metadata": {
    "tags": []
   },
   "outputs": [
    {
     "name": "stdout",
     "output_type": "stream",
     "text": [
      "Found 2000 images belonging to 2 classes.\n"
     ]
    }
   ],
   "source": [
    "test_datagen = ImageDataGenerator(rescale = 1./255)\n",
    "test_set = test_datagen.flow_from_directory('dataset/test_set',\n",
    "                                            target_size = (64, 64),\n",
    "                                            batch_size = 32,\n",
    "                                            class_mode = 'binary')"
   ]
  },
  {
   "cell_type": "code",
   "execution_count": 5,
   "id": "693d6d9e-afa9-4714-b89e-91d1eff45935",
   "metadata": {
    "tags": []
   },
   "outputs": [],
   "source": [
    "cnn = tf.keras.models.Sequential()"
   ]
  },
  {
   "cell_type": "code",
   "execution_count": 6,
   "id": "fc212b14-3f78-433d-8ffb-dcda6a884263",
   "metadata": {
    "tags": []
   },
   "outputs": [],
   "source": [
    "cnn.add(tf.keras.layers.Conv2D(filters = 32, kernel_size = 3, activation = 'relu', input_shape = [64, 64, 3]))"
   ]
  },
  {
   "cell_type": "code",
   "execution_count": 8,
   "id": "a2172fa0-bfa9-4b40-90fc-be317310b19d",
   "metadata": {
    "tags": []
   },
   "outputs": [],
   "source": [
    "cnn.add(tf.keras.layers.MaxPool2D(pool_size = 2, strides = 2))"
   ]
  },
  {
   "cell_type": "code",
   "execution_count": 9,
   "id": "0a275978-ba5b-4b00-b34b-da4c92656e67",
   "metadata": {
    "tags": []
   },
   "outputs": [],
   "source": [
    "cnn.add(tf.keras.layers.Conv2D(filters = 32, kernel_size = 3, activation = 'relu'))\n",
    "cnn.add(tf.keras.layers.MaxPool2D(pool_size = 2, strides = 2))"
   ]
  },
  {
   "cell_type": "code",
   "execution_count": 10,
   "id": "292d2573-8991-4dff-9305-5b74216e233f",
   "metadata": {
    "tags": []
   },
   "outputs": [],
   "source": [
    "cnn.add(tf.keras.layers.Flatten())"
   ]
  },
  {
   "cell_type": "code",
   "execution_count": 11,
   "id": "ad30c45b-a8e9-4c3c-863b-f42853f15a8c",
   "metadata": {
    "tags": []
   },
   "outputs": [],
   "source": [
    "cnn.add(tf.keras.layers.Dense(units = 128, activation = 'relu'))"
   ]
  },
  {
   "cell_type": "code",
   "execution_count": 12,
   "id": "db369d80-d0a6-4518-a9e5-f6cce231357b",
   "metadata": {
    "tags": []
   },
   "outputs": [],
   "source": [
    "cnn.add(tf.keras.layers.Dense(units = 1, activation = 'sigmoid'))"
   ]
  },
  {
   "cell_type": "code",
   "execution_count": 13,
   "id": "34d537c8-e031-44cc-b0e6-b87cdad349e5",
   "metadata": {
    "tags": []
   },
   "outputs": [],
   "source": [
    "cnn.compile(optimizer = 'adam', loss = 'binary_crossentropy', metrics = ['accuracy'])"
   ]
  },
  {
   "cell_type": "code",
   "execution_count": 14,
   "id": "921346e8-63fe-4e12-a488-75da58d0127f",
   "metadata": {
    "tags": []
   },
   "outputs": [
    {
     "name": "stdout",
     "output_type": "stream",
     "text": [
      "Epoch 1/25\n",
      "250/250 [==============================] - 40s 155ms/step - loss: 0.6827 - accuracy: 0.5648 - val_loss: 0.6755 - val_accuracy: 0.5620\n",
      "Epoch 2/25\n",
      "250/250 [==============================] - 41s 164ms/step - loss: 0.6583 - accuracy: 0.6036 - val_loss: 0.6336 - val_accuracy: 0.6370\n",
      "Epoch 3/25\n",
      "250/250 [==============================] - 42s 167ms/step - loss: 0.6144 - accuracy: 0.6600 - val_loss: 0.5897 - val_accuracy: 0.7085\n",
      "Epoch 4/25\n",
      "250/250 [==============================] - 35s 139ms/step - loss: 0.5785 - accuracy: 0.6929 - val_loss: 0.5556 - val_accuracy: 0.7245\n",
      "Epoch 5/25\n",
      "250/250 [==============================] - 38s 152ms/step - loss: 0.5382 - accuracy: 0.7272 - val_loss: 0.5413 - val_accuracy: 0.7280\n",
      "Epoch 6/25\n",
      "250/250 [==============================] - 41s 165ms/step - loss: 0.5192 - accuracy: 0.7401 - val_loss: 0.5808 - val_accuracy: 0.7005\n",
      "Epoch 7/25\n",
      "250/250 [==============================] - 45s 178ms/step - loss: 0.4882 - accuracy: 0.7609 - val_loss: 0.4984 - val_accuracy: 0.7655\n",
      "Epoch 8/25\n",
      "250/250 [==============================] - 41s 164ms/step - loss: 0.4775 - accuracy: 0.7684 - val_loss: 0.5251 - val_accuracy: 0.7375\n",
      "Epoch 9/25\n",
      "250/250 [==============================] - 43s 170ms/step - loss: 0.4548 - accuracy: 0.7824 - val_loss: 0.4891 - val_accuracy: 0.7645\n",
      "Epoch 10/25\n",
      "250/250 [==============================] - 43s 173ms/step - loss: 0.4505 - accuracy: 0.7847 - val_loss: 0.4779 - val_accuracy: 0.7740\n",
      "Epoch 11/25\n",
      "250/250 [==============================] - 47s 189ms/step - loss: 0.4337 - accuracy: 0.7984 - val_loss: 0.5400 - val_accuracy: 0.7430\n",
      "Epoch 12/25\n",
      "250/250 [==============================] - 40s 159ms/step - loss: 0.4180 - accuracy: 0.8073 - val_loss: 0.4686 - val_accuracy: 0.7885\n",
      "Epoch 13/25\n",
      "250/250 [==============================] - 40s 158ms/step - loss: 0.4016 - accuracy: 0.8135 - val_loss: 0.4677 - val_accuracy: 0.7825\n",
      "Epoch 14/25\n",
      "250/250 [==============================] - 42s 170ms/step - loss: 0.3892 - accuracy: 0.8206 - val_loss: 0.4635 - val_accuracy: 0.7885\n",
      "Epoch 15/25\n",
      "250/250 [==============================] - 40s 159ms/step - loss: 0.3835 - accuracy: 0.8235 - val_loss: 0.4800 - val_accuracy: 0.7850\n",
      "Epoch 16/25\n",
      "250/250 [==============================] - 40s 161ms/step - loss: 0.3598 - accuracy: 0.8355 - val_loss: 0.4563 - val_accuracy: 0.8070\n",
      "Epoch 17/25\n",
      "250/250 [==============================] - 42s 166ms/step - loss: 0.3599 - accuracy: 0.8415 - val_loss: 0.4436 - val_accuracy: 0.7995\n",
      "Epoch 18/25\n",
      "250/250 [==============================] - 40s 162ms/step - loss: 0.3427 - accuracy: 0.8497 - val_loss: 0.4562 - val_accuracy: 0.7920\n",
      "Epoch 19/25\n",
      "250/250 [==============================] - 41s 165ms/step - loss: 0.3299 - accuracy: 0.8524 - val_loss: 0.4972 - val_accuracy: 0.7795\n",
      "Epoch 20/25\n",
      "250/250 [==============================] - 39s 154ms/step - loss: 0.3140 - accuracy: 0.8630 - val_loss: 0.4775 - val_accuracy: 0.7890\n",
      "Epoch 21/25\n",
      "250/250 [==============================] - 39s 155ms/step - loss: 0.2952 - accuracy: 0.8717 - val_loss: 0.4559 - val_accuracy: 0.7990\n",
      "Epoch 22/25\n",
      "250/250 [==============================] - 44s 176ms/step - loss: 0.2773 - accuracy: 0.8839 - val_loss: 0.5029 - val_accuracy: 0.7975\n",
      "Epoch 23/25\n",
      "250/250 [==============================] - 42s 167ms/step - loss: 0.2664 - accuracy: 0.8884 - val_loss: 0.5656 - val_accuracy: 0.7730\n",
      "Epoch 24/25\n",
      "250/250 [==============================] - 43s 171ms/step - loss: 0.2455 - accuracy: 0.8967 - val_loss: 0.5163 - val_accuracy: 0.8000\n",
      "Epoch 25/25\n",
      "250/250 [==============================] - 43s 173ms/step - loss: 0.2339 - accuracy: 0.9036 - val_loss: 0.5341 - val_accuracy: 0.8015\n"
     ]
    },
    {
     "data": {
      "text/plain": [
       "<keras.callbacks.History at 0x1fbe5811190>"
      ]
     },
     "execution_count": 14,
     "metadata": {},
     "output_type": "execute_result"
    }
   ],
   "source": [
    "cnn.fit(x = training_set, validation_data = test_set, epochs = 25)"
   ]
  },
  {
   "cell_type": "code",
   "execution_count": 60,
   "id": "fb365ad6-14f6-4d37-bd69-dcefb1ffb739",
   "metadata": {
    "tags": []
   },
   "outputs": [
    {
     "name": "stdout",
     "output_type": "stream",
     "text": [
      "1/1 [==============================] - 0s 25ms/step\n"
     ]
    }
   ],
   "source": [
    "import numpy as np\n",
    "from tensorflow.keras.preprocessing.image import load_img\n",
    "from tensorflow.keras.preprocessing.image import img_to_array\n",
    "test_image = load_img('dataset/test_set/cats/cat.4005.jpg', target_size = (64, 64))\n",
    "test_image = img_to_array(test_image)\n",
    "test_image = test_image/255.0\n",
    "test_image = np.expand_dims(test_image, axis = 0)\n",
    "result = cnn.predict(test_image)\n",
    "training_set.class_indices\n",
    "if result[0][0] > 0.5:\n",
    "    predict = 'dog'\n",
    "else:\n",
    "    preduct = 'cat'"
   ]
  },
  {
   "cell_type": "code",
   "execution_count": 48,
   "id": "62edc061-a445-45b2-b01a-b29e919b2bc9",
   "metadata": {
    "tags": []
   },
   "outputs": [
    {
     "name": "stdout",
     "output_type": "stream",
     "text": [
      "dog\n"
     ]
    }
   ],
   "source": [
    "print(predict)"
   ]
  },
  {
   "cell_type": "code",
   "execution_count": 52,
   "id": "06a85eca-eccb-440a-b469-560585a2ef95",
   "metadata": {
    "tags": []
   },
   "outputs": [
    {
     "name": "stdout",
     "output_type": "stream",
     "text": [
      "1/1 [==============================] - 0s 25ms/step\n",
      "dog\n"
     ]
    }
   ],
   "source": [
    "test_image = load_img('dataset/single_prediction/cat.1.jpg', target_size = (64, 64))\n",
    "test_image = img_to_array(test_image)\n",
    "test_image = np.expand_dims(test_image, axis = 0)\n",
    "result = cnn.predict(test_image)\n",
    "training_set.class_indices\n",
    "if result[0][0] > 0.5:\n",
    "    predict = 'dog'\n",
    "else:\n",
    "    preduct = 'cat'\n",
    "print(predict)"
   ]
  },
  {
   "cell_type": "code",
   "execution_count": 49,
   "id": "f99a7550-ca66-4ece-9fa8-9b8e41cb93bf",
   "metadata": {
    "tags": []
   },
   "outputs": [
    {
     "name": "stdout",
     "output_type": "stream",
     "text": [
      "1/1 [==============================] - 0s 21ms/step\n",
      "dog\n"
     ]
    }
   ],
   "source": [
    "test_image = load_img('dataset/single_prediction/cat.4538.jpg', target_size = (64, 64))\n",
    "test_image = img_to_array(test_image)\n",
    "test_image = np.expand_dims(test_image, axis = 0)\n",
    "result = cnn.predict(test_image/255.0)\n",
    "training_set.class_indices\n",
    "if result[0][0] > 0.5:\n",
    "    predict = 'dog'\n",
    "else:\n",
    "    preduct = 'cat'\n",
    "print(predict)"
   ]
  },
  {
   "cell_type": "code",
   "execution_count": 40,
   "id": "265a8072-4582-4fbe-8968-306d5daccd1b",
   "metadata": {
    "tags": []
   },
   "outputs": [
    {
     "data": {
      "text/plain": [
       "1.0"
      ]
     },
     "execution_count": 40,
     "metadata": {},
     "output_type": "execute_result"
    }
   ],
   "source": [
    "result[0][0]"
   ]
  },
  {
   "cell_type": "code",
   "execution_count": null,
   "id": "f63c4f1e-2432-47f2-95bf-2cec36d57a85",
   "metadata": {},
   "outputs": [],
   "source": []
  }
 ],
 "metadata": {
  "kernelspec": {
   "display_name": "Python 3 (ipykernel)",
   "language": "python",
   "name": "python3"
  },
  "language_info": {
   "codemirror_mode": {
    "name": "ipython",
    "version": 3
   },
   "file_extension": ".py",
   "mimetype": "text/x-python",
   "name": "python",
   "nbconvert_exporter": "python",
   "pygments_lexer": "ipython3",
   "version": "3.11.2"
  }
 },
 "nbformat": 4,
 "nbformat_minor": 5
}
